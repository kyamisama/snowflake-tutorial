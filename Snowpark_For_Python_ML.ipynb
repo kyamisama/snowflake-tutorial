{
 "cells": [
  {
   "cell_type": "markdown",
   "id": "5976cb51-5bad-44ad-88aa-f8ccbe937f00",
   "metadata": {
    "collapsed": false,
    "name": "cell8",
    "resultHeight": 480
   },
   "source": [
    "# Project Overview\n",
    "\n",
    "Perform data analysis and data preparation tasks to train a Linear Regression model to predict future ROI (Return On Investment) of variable ad spend budgets across multiple channels including search, video, social media, and email using Snowpark for Python, Snowpark ML and Streamlit. By the end of the session, you will have an interactive web application deployed visualizing the ROI of different allocated advertising spend budgets.\n",
    "\n",
    "***Prerequisite**: Before proceeding with this Notebook, you must first successfully run through Snowpark_For_Python_DE.ipynb.*\n",
    "\n",
    "## Machine Learning\n",
    "\n",
    "In this Notebook, we will focus on Machine Learning in Snowflake using Snowpark for Python.\n",
    "\n",
    "- Load features and target from Snowflake table into Snowpark DataFrame\n",
    "- Prepare features for model training\n",
    "- Train ML model using Snowpark ML in Snowflake and upload the model to Snowflake stage\n",
    "- Register ML model and use it for inference from Snowpark ML Model Registry\n",
    "\n",
    "For environment setup including loading data into Snowflake tables, and step-by-step instructions, please refer to the [QuickStart Guide](https://quickstarts.snowflake.com/guide/getting_started_with_dataengineering_ml_using_snowpark_python/index.html#0)."
   ]
  },
  {
   "cell_type": "markdown",
   "id": "a83ffa8f-faea-4e9e-8fbe-296193a3153d",
   "metadata": {
    "collapsed": false,
    "name": "cell9",
    "resultHeight": 60
   },
   "source": [
    "## Import Libraries"
   ]
  },
  {
   "cell_type": "code",
   "execution_count": 1,
   "id": "3775908f-ca36-4846-8f38-5adca39217f2",
   "metadata": {
    "codeCollapsed": false,
    "collapsed": false,
    "language": "python",
    "name": "cell1",
    "resultHeight": 0
   },
   "outputs": [
    {
     "name": "stderr",
     "output_type": "stream",
     "text": [
      "Parameter custom_package_usage_config is experimental since 1.6.0. Do not use it in production. \n"
     ]
    }
   ],
   "source": [
    "# Snowpark for Python\n",
    "from snowflake.snowpark.session import Session\n",
    "from snowflake.snowpark.context import get_active_session\n",
    "from snowflake.snowpark.version import VERSION\n",
    "\n",
    "# Snowpark ML\n",
    "from snowflake.ml.modeling.compose import ColumnTransformer\n",
    "from snowflake.ml.modeling.pipeline import Pipeline\n",
    "from snowflake.ml.modeling.preprocessing import PolynomialFeatures, StandardScaler\n",
    "from snowflake.ml.modeling.linear_model import LinearRegression\n",
    "from snowflake.ml.modeling.model_selection import GridSearchCV\n",
    "from snowflake.ml.registry import Registry\n",
    "from snowflake.ml.version import VERSION as ml_version\n",
    "\n",
    "# Misc\n",
    "#import pandas as pd\n",
    "import json\n",
    "import logging\n",
    "logger = logging.getLogger(\"snowflake.snowpark.session\")\n",
    "logger.setLevel(logging.ERROR)\n",
    "\n",
    "# connection.json の読み込み\n",
    "with open(\"connection.json\", \"r\") as file:\n",
    "    connection_parameters = json.load(file)\n",
    "\n",
    "# セッション作成\n",
    "session = Session.builder.configs(connection_parameters).create()\n",
    "session.add_packages(\"scikit-learn==1.5.1\")\n",
    "\n",
    "# 外部パッケージの利用を許可\n",
    "session.custom_package_usage_config = {\"enabled\": True,\"force_push\": True}\n",
    "\n",
    "session = get_active_session()\n",
    "# Add a query tag to the session. This helps with monitoring and troubleshooting.\n",
    "session.query_tag = {\"origin\":\"sf_sit-is\",\n",
    "                     \"name\":\"aiml_notebooks_ad_spend_roi\",\n",
    "                     \"version\":{\"major\":1, \"minor\":0},\n",
    "                     \"attributes\":{\"is_quickstart\":1, \"source\":\"notebook\"}}\n"
   ]
  },
  {
   "cell_type": "markdown",
   "id": "4fb8edfb-6c71-40cc-bc23-9aa58b056e63",
   "metadata": {
    "collapsed": false,
    "name": "cell10",
    "resultHeight": 201
   },
   "source": [
    "## Features and Target\n",
    "\n",
    "At this point we are ready to perform the following actions to save features and target for model training.\n",
    "\n",
    "- Delete rows with missing values\n",
    "- Exclude columns we don't need for modeling\n",
    "- Save features into a Snowflake table called MARKETING_BUDGETS_FEATURES"
   ]
  },
  {
   "cell_type": "code",
   "execution_count": 2,
   "id": "8d50cbf4-0c8d-4950-86cb-114990437ac9",
   "metadata": {
    "collapsed": false,
    "language": "python",
    "name": "cell2",
    "resultHeight": 345
   },
   "outputs": [
    {
     "name": "stdout",
     "output_type": "stream",
     "text": [
      "---------------------------------------------------------------------\n",
      "|\"SEARCH_ENGINE\"  |\"SOCIAL_MEDIA\"  |\"VIDEO\"  |\"EMAIL\"  |\"REVENUE\"   |\n",
      "---------------------------------------------------------------------\n",
      "|516431           |517618          |516729   |517208   |3264300.11  |\n",
      "|506497           |504679          |501098   |501947   |3208482.33  |\n",
      "|522780           |521395          |522762   |518405   |3311966.98  |\n",
      "|519959           |520537          |520685   |521584   |3311752.81  |\n",
      "|507211           |507404          |511364   |507363   |3208563.06  |\n",
      "|518942           |520863          |522768   |519950   |3334028.46  |\n",
      "|505715           |505221          |505292   |503748   |3185894.64  |\n",
      "|520148           |520711          |521427   |520724   |3334570.96  |\n",
      "|522151           |518635          |520583   |521167   |3316455.44  |\n",
      "|467736           |474679          |469856   |469784   |2995042.21  |\n",
      "---------------------------------------------------------------------\n",
      "\n"
     ]
    }
   ],
   "source": [
    "# Load data\n",
    "snow_df_spend_and_revenue_per_month = session.table('spend_and_revenue_per_month')\n",
    "\n",
    "# Delete rows with missing values\n",
    "snow_df_spend_and_revenue_per_month = snow_df_spend_and_revenue_per_month.dropna()\n",
    "\n",
    "# Exclude columns we don't need for modeling\n",
    "snow_df_spend_and_revenue_per_month = snow_df_spend_and_revenue_per_month.drop(['YEAR','MONTH'])\n",
    "\n",
    "# Save features into a Snowflake table call MARKETING_BUDGETS_FEATURES\n",
    "snow_df_spend_and_revenue_per_month.write.mode('overwrite').save_as_table('MARKETING_BUDGETS_FEATURES')\n",
    "snow_df_spend_and_revenue_per_month.show()"
   ]
  },
  {
   "cell_type": "markdown",
   "id": "6069de28-2e2c-467d-a20f-df1f1a6bb35b",
   "metadata": {
    "collapsed": false,
    "name": "cell11",
    "resultHeight": 143
   },
   "source": [
    "## Model Training using Snowpark ML in Snowflake\n",
    "\n",
    "Learn more about [Snowpark ML](https://docs.snowflake.com/developer-guide/snowpark-ml/snowpark-ml-modeling).\n",
    "\n",
    "NOTE: For workloads that require a large amount of memory and compute resources, consider using [Snowpark-Optimized Warehouses](https://docs.snowflake.com/en/developer-guide/snowpark/python/python-snowpark-training-ml#snowpark-optimized-warehouses)."
   ]
  },
  {
   "cell_type": "code",
   "execution_count": 3,
   "id": "c695373e-ac74-4b62-a1f1-08206cbd5c81",
   "metadata": {
    "codeCollapsed": false,
    "collapsed": false,
    "language": "python",
    "name": "cell3",
    "resultHeight": 60
   },
   "outputs": [
    {
     "name": "stdout",
     "output_type": "stream",
     "text": [
      "R2 score on Train : 0.9951076702244089\n",
      "R2 score on Test  : 0.9069318156071831\n"
     ]
    }
   ],
   "source": [
    "CROSS_VALIDATION_FOLDS = 10\n",
    "POLYNOMIAL_FEATURES_DEGREE = 2\n",
    "\n",
    "# Create train and test Snowpark DataDrames\n",
    "train_df, test_df = session.table(\"MARKETING_BUDGETS_FEATURES\").random_split(weights=[0.8, 0.2], seed=0)\n",
    "\n",
    "# Preprocess the Numeric columns\n",
    "# We apply PolynomialFeatures and StandardScaler preprocessing steps to the numeric columns\n",
    "# NOTE: High degrees can cause overfitting.\n",
    "numeric_features = ['SEARCH_ENGINE','SOCIAL_MEDIA','VIDEO','EMAIL']\n",
    "numeric_transformer = Pipeline(steps=[('poly',PolynomialFeatures(degree = POLYNOMIAL_FEATURES_DEGREE)),('scaler', StandardScaler())])\n",
    "\n",
    "# Combine the preprocessed step together using the Column Transformer module\n",
    "preprocessor = ColumnTransformer(\n",
    "    transformers=[\n",
    "        ('num', numeric_transformer, numeric_features)])\n",
    "\n",
    "# The next step is the integrate the features we just preprocessed with our Machine Learning algorithm to enable us to build a model\n",
    "pipeline = Pipeline(steps=[('preprocessor', preprocessor),('classifier', LinearRegression())])\n",
    "parameteres = {}\n",
    "\n",
    "# Use GridSearch to find the best fitting model based on number_of_folds folds\n",
    "model = GridSearchCV(\n",
    "    estimator=pipeline,\n",
    "    param_grid=parameteres,\n",
    "    cv=CROSS_VALIDATION_FOLDS,\n",
    "    label_cols=[\"REVENUE\"],\n",
    "    output_cols=[\"PREDICTED_REVENUE\"],\n",
    "    verbose=2\n",
    ")\n",
    "\n",
    "# Fit and Score\n",
    "model.fit(train_df)\n",
    "train_r2_score = model.score(train_df)\n",
    "test_r2_score = model.score(test_df)\n",
    "\n",
    "# R2 score on train and test datasets\n",
    "print(f\"R2 score on Train : {train_r2_score}\")\n",
    "print(f\"R2 score on Test  : {test_r2_score}\")"
   ]
  },
  {
   "cell_type": "markdown",
   "id": "0dc15f0c-8c57-42b7-b57e-e67cf40a3997",
   "metadata": {
    "collapsed": false,
    "name": "cell12",
    "resultHeight": 143
   },
   "source": [
    "## Log Trained Model to Snowflake Model Registry\n",
    "\n",
    "The Model Registry allows to store models as objects in a schema in Snowflake. Note that by default the database and schema of the session is used.\n",
    "\n",
    "Learn more about [Model Registry](https://docs.snowflake.com/developer-guide/snowpark-ml/model-registry/overview)."
   ]
  },
  {
   "cell_type": "code",
   "execution_count": 4,
   "id": "dc22a0e7-83ca-470c-8430-60b5f9e1e4c1",
   "metadata": {
    "collapsed": false,
    "language": "python",
    "name": "cell4",
    "resultHeight": 0
   },
   "outputs": [],
   "source": [
    "registry = Registry(session)\n",
    "MODEL_NAME = \"PREDICT_ROI\""
   ]
  },
  {
   "cell_type": "code",
   "execution_count": 5,
   "id": "9e9e3849-61b9-4902-bac5-53c3f0131c40",
   "metadata": {
    "collapsed": false,
    "language": "python",
    "name": "cell13",
    "resultHeight": 0
   },
   "outputs": [],
   "source": [
    "# NOTE: If you try to log the model with the same name, you may get \"ValueError: (0000) Model PREDICT_ROI version v1 already existed.\" error. \n",
    "# If that's the case, uncomment and run this cell.\n",
    "\n",
    "# registry.delete_model(MODEL_NAME)"
   ]
  },
  {
   "cell_type": "code",
   "execution_count": 6,
   "id": "813b07ec-cf73-44dd-bbf0-261268f73d8e",
   "metadata": {
    "codeCollapsed": false,
    "collapsed": false,
    "language": "python",
    "name": "cell5",
    "resultHeight": 0
   },
   "outputs": [],
   "source": [
    "mv = registry.log_model(model,\n",
    "                        model_name=MODEL_NAME,\n",
    "                        version_name=\"v1\",\n",
    "                        metrics={\"R2_train\": train_r2_score, \"R2_test\":test_r2_score},\n",
    "                        comment='Model pipeline to predict revenue',\n",
    "                        options={\"relax_version\": False}\n",
    "                    )"
   ]
  },
  {
   "cell_type": "markdown",
   "id": "39a15039-8008-42ae-a639-982585087d2d",
   "metadata": {
    "collapsed": false,
    "name": "cell14",
    "resultHeight": 60
   },
   "source": [
    "## View Logged Model in Snowflake Model Registry"
   ]
  },
  {
   "cell_type": "code",
   "execution_count": 7,
   "id": "bd9caea2-4825-4f86-bec7-80b3d9d07103",
   "metadata": {
    "collapsed": false,
    "language": "python",
    "name": "cell6",
    "resultHeight": 439
   },
   "outputs": [
    {
     "data": {
      "text/html": [
       "<div>\n",
       "<style scoped>\n",
       "    .dataframe tbody tr th:only-of-type {\n",
       "        vertical-align: middle;\n",
       "    }\n",
       "\n",
       "    .dataframe tbody tr th {\n",
       "        vertical-align: top;\n",
       "    }\n",
       "\n",
       "    .dataframe thead th {\n",
       "        text-align: right;\n",
       "    }\n",
       "</style>\n",
       "<table border=\"1\" class=\"dataframe\">\n",
       "  <thead>\n",
       "    <tr style=\"text-align: right;\">\n",
       "      <th></th>\n",
       "      <th>created_on</th>\n",
       "      <th>name</th>\n",
       "      <th>model_type</th>\n",
       "      <th>database_name</th>\n",
       "      <th>schema_name</th>\n",
       "      <th>comment</th>\n",
       "      <th>owner</th>\n",
       "      <th>default_version_name</th>\n",
       "      <th>versions</th>\n",
       "      <th>aliases</th>\n",
       "    </tr>\n",
       "  </thead>\n",
       "  <tbody>\n",
       "    <tr>\n",
       "      <th>0</th>\n",
       "      <td>2025-01-03 04:25:16-08:00</td>\n",
       "      <td>PREDICT_ROI</td>\n",
       "      <td>USER_MODEL</td>\n",
       "      <td>DASH_DB</td>\n",
       "      <td>DASH_SCHEMA</td>\n",
       "      <td>None</td>\n",
       "      <td>ACCOUNTADMIN</td>\n",
       "      <td>V1</td>\n",
       "      <td>[\"V1\"]</td>\n",
       "      <td>{\"DEFAULT\":\"V1\",\"FIRST\":\"V1\",\"LAST\":\"V1\"}</td>\n",
       "    </tr>\n",
       "  </tbody>\n",
       "</table>\n",
       "</div>"
      ],
      "text/plain": [
       "                 created_on         name  model_type database_name  \\\n",
       "0 2025-01-03 04:25:16-08:00  PREDICT_ROI  USER_MODEL       DASH_DB   \n",
       "\n",
       "   schema_name comment         owner default_version_name versions  \\\n",
       "0  DASH_SCHEMA    None  ACCOUNTADMIN                   V1   [\"V1\"]   \n",
       "\n",
       "                                     aliases  \n",
       "0  {\"DEFAULT\":\"V1\",\"FIRST\":\"V1\",\"LAST\":\"V1\"}  "
      ]
     },
     "execution_count": 7,
     "metadata": {},
     "output_type": "execute_result"
    }
   ],
   "source": [
    "registry.show_models()"
   ]
  },
  {
   "cell_type": "markdown",
   "id": "0ff01596-ce5d-4efb-aeaf-656972f0b84a",
   "metadata": {
    "collapsed": false,
    "name": "cell15",
    "resultHeight": 169
   },
   "source": [
    "## Inference\n",
    "\n",
    "Once the model is logged we can use it for inference on new data.\n",
    "\n",
    "First we will create a Snowpark DataFrame with some sample data and then call the logged model to get new predictions. Note: we will handle negative values in our Streamlit application."
   ]
  },
  {
   "cell_type": "code",
   "execution_count": 8,
   "id": "6f01b5c4-3f5b-4384-9051-e15ded939c48",
   "metadata": {
    "codeCollapsed": false,
    "collapsed": false,
    "language": "python",
    "name": "cell7",
    "resultHeight": 188
   },
   "outputs": [
    {
     "name": "stdout",
     "output_type": "stream",
     "text": [
      "------------------------------------------------------------------------------\n",
      "|\"SEARCH_ENGINE\"  |\"SOCIAL_MEDIA\"  |\"VIDEO\"  |\"EMAIL\"  |\"PREDICTED_REVENUE\"  |\n",
      "------------------------------------------------------------------------------\n",
      "|250000           |250000          |200000   |450000   |-12735698.047846342  |\n",
      "|8500             |9500            |2000     |500      |-107984.61196421506  |\n",
      "|500000           |500000          |500000   |500000   |3180176.674854816    |\n",
      "------------------------------------------------------------------------------\n",
      "\n"
     ]
    }
   ],
   "source": [
    "test_df = session.create_dataframe([[250000,250000,200000,450000],[500000,500000,500000,500000],[8500,9500,2000,500]], \n",
    "                                    schema=['SEARCH_ENGINE','SOCIAL_MEDIA','VIDEO','EMAIL'])\n",
    "mv.run(test_df, function_name='predict').show()"
   ]
  },
  {
   "cell_type": "markdown",
   "id": "de79c426-b69a-4d2b-9027-92103cd528e7",
   "metadata": {
    "collapsed": false,
    "name": "cell17",
    "resultHeight": 74
   },
   "source": [
    "# Streamlit Application"
   ]
  },
  {
   "cell_type": "code",
   "execution_count": 9,
   "id": "3972a7c6-8778-47e4-83dc-3957fc11fc8c",
   "metadata": {
    "collapsed": false,
    "language": "python",
    "name": "cell16",
    "resultHeight": 910
   },
   "outputs": [
    {
     "name": "stderr",
     "output_type": "stream",
     "text": [
      "2025-01-03 21:25:39.713 WARNING streamlit.runtime.scriptrunner_utils.script_run_context: Thread 'MainThread': missing ScriptRunContext! This warning can be ignored when running in bare mode.\n",
      "2025-01-03 21:25:39.837 \n",
      "  \u001b[33m\u001b[1mWarning:\u001b[0m to view this Streamlit app on a browser, run it with the following\n",
      "  command:\n",
      "\n",
      "    streamlit run /Users/kyamisama/workspace/sw_tutorial/venv/lib/python3.9/site-packages/ipykernel_launcher.py [ARGUMENTS]\n",
      "2025-01-03 21:25:39.838 Thread 'MainThread': missing ScriptRunContext! This warning can be ignored when running in bare mode.\n",
      "2025-01-03 21:25:39.839 Thread 'MainThread': missing ScriptRunContext! This warning can be ignored when running in bare mode.\n",
      "2025-01-03 21:25:39.840 Thread 'MainThread': missing ScriptRunContext! This warning can be ignored when running in bare mode.\n",
      "2025-01-03 21:25:40.811 Thread 'MainThread': missing ScriptRunContext! This warning can be ignored when running in bare mode.\n",
      "2025-01-03 21:25:40.812 Thread 'MainThread': missing ScriptRunContext! This warning can be ignored when running in bare mode.\n",
      "2025-01-03 21:25:40.812 Thread 'MainThread': missing ScriptRunContext! This warning can be ignored when running in bare mode.\n",
      "2025-01-03 21:25:40.813 Thread 'MainThread': missing ScriptRunContext! This warning can be ignored when running in bare mode.\n",
      "2025-01-03 21:25:40.815 Thread 'MainThread': missing ScriptRunContext! This warning can be ignored when running in bare mode.\n",
      "2025-01-03 21:25:40.815 Thread 'MainThread': missing ScriptRunContext! This warning can be ignored when running in bare mode.\n",
      "2025-01-03 21:25:40.816 Thread 'MainThread': missing ScriptRunContext! This warning can be ignored when running in bare mode.\n",
      "2025-01-03 21:25:40.817 Thread 'MainThread': missing ScriptRunContext! This warning can be ignored when running in bare mode.\n",
      "2025-01-03 21:25:40.818 Thread 'MainThread': missing ScriptRunContext! This warning can be ignored when running in bare mode.\n",
      "2025-01-03 21:25:40.819 Thread 'MainThread': missing ScriptRunContext! This warning can be ignored when running in bare mode.\n",
      "2025-01-03 21:25:40.819 Thread 'MainThread': missing ScriptRunContext! This warning can be ignored when running in bare mode.\n",
      "2025-01-03 21:25:40.820 Thread 'MainThread': missing ScriptRunContext! This warning can be ignored when running in bare mode.\n",
      "2025-01-03 21:25:40.820 Thread 'MainThread': missing ScriptRunContext! This warning can be ignored when running in bare mode.\n",
      "2025-01-03 21:25:40.821 Thread 'MainThread': missing ScriptRunContext! This warning can be ignored when running in bare mode.\n",
      "2025-01-03 21:25:40.822 Thread 'MainThread': missing ScriptRunContext! This warning can be ignored when running in bare mode.\n",
      "2025-01-03 21:25:40.823 Thread 'MainThread': missing ScriptRunContext! This warning can be ignored when running in bare mode.\n",
      "2025-01-03 21:25:40.823 Thread 'MainThread': missing ScriptRunContext! This warning can be ignored when running in bare mode.\n",
      "2025-01-03 21:25:40.824 Thread 'MainThread': missing ScriptRunContext! This warning can be ignored when running in bare mode.\n",
      "2025-01-03 21:25:40.825 Thread 'MainThread': missing ScriptRunContext! This warning can be ignored when running in bare mode.\n",
      "2025-01-03 21:25:40.827 Thread 'MainThread': missing ScriptRunContext! This warning can be ignored when running in bare mode.\n",
      "2025-01-03 21:25:40.828 Thread 'MainThread': missing ScriptRunContext! This warning can be ignored when running in bare mode.\n",
      "2025-01-03 21:25:40.828 Thread 'MainThread': missing ScriptRunContext! This warning can be ignored when running in bare mode.\n",
      "2025-01-03 21:25:40.829 Thread 'MainThread': missing ScriptRunContext! This warning can be ignored when running in bare mode.\n",
      "2025-01-03 21:25:40.830 Thread 'MainThread': missing ScriptRunContext! This warning can be ignored when running in bare mode.\n",
      "2025-01-03 21:25:43.438 `label` got an empty value. This is discouraged for accessibility reasons and may be disallowed in the future by raising an exception. Please provide a non-empty label and hide it with label_visibility if needed.\n",
      "2025-01-03 21:25:43.439 Thread 'MainThread': missing ScriptRunContext! This warning can be ignored when running in bare mode.\n",
      "2025-01-03 21:25:43.440 Thread 'MainThread': missing ScriptRunContext! This warning can be ignored when running in bare mode.\n",
      "2025-01-03 21:25:43.605 Thread 'MainThread': missing ScriptRunContext! This warning can be ignored when running in bare mode.\n",
      "2025-01-03 21:25:43.606 Thread 'MainThread': missing ScriptRunContext! This warning can be ignored when running in bare mode.\n",
      "2025-01-03 21:25:43.607 Thread 'MainThread': missing ScriptRunContext! This warning can be ignored when running in bare mode.\n",
      "2025-01-03 21:25:43.608 Thread 'MainThread': missing ScriptRunContext! This warning can be ignored when running in bare mode.\n",
      "2025-01-03 21:25:43.609 Thread 'MainThread': missing ScriptRunContext! This warning can be ignored when running in bare mode.\n",
      "2025-01-03 21:25:43.610 Thread 'MainThread': missing ScriptRunContext! This warning can be ignored when running in bare mode.\n",
      "2025-01-03 21:25:43.611 Thread 'MainThread': missing ScriptRunContext! This warning can be ignored when running in bare mode.\n"
     ]
    }
   ],
   "source": [
    "import calendar \n",
    "import altair as alt\n",
    "import streamlit as st\n",
    "import pandas as pd\n",
    "from snowflake.snowpark.functions import col\n",
    "\n",
    "# Function to load last six months' budget allocations and ROI \n",
    "def load():\n",
    "  data = session.table(\"BUDGET_ALLOCATIONS_AND_ROI\").unpivot(\"Budget\", \"Channel\", [\"SearchEngine\", \"SocialMedia\", \"Video\", \"Email\"]).filter(col(\"MONTH\") != \"July\")\n",
    "  alloc, rois, last_alloc = data.drop(\"ROI\"), data.drop([\"CHANNEL\", \"BUDGET\"]).distinct(), data.filter(col(\"MONTH\") == \"June\")\n",
    "  return data.to_pandas(), alloc.to_pandas(), rois.to_pandas(), last_alloc.to_pandas()\n",
    "\n",
    "def predict(budgets):\n",
    "  pred = session.sql(f\"SELECT ABS(PREDICT_ROI!predict({budgets[0]*1000},{budgets[1]*1000},{budgets[2]*1000},{budgets[3]*1000})['PREDICTED_REVENUE']::int) as PREDICTED_ROI\").to_pandas()\n",
    "  pred = pred[\"PREDICTED_ROI\"].values[0] / 100000\n",
    "  change = round(((pred / rois[\"ROI\"].iloc[-1]) - 1) * 100, 1)\n",
    "  return pred, change\n",
    "\n",
    "def chart(chart_data):\n",
    "  base = alt.Chart(chart_data).encode(alt.X(\"MONTH\", sort=list(calendar.month_name), title=None))\n",
    "  bars = base.mark_bar().encode(y=alt.Y(\"BUDGET\", title=\"Budget\", scale=alt.Scale(domain=[0, 300])), color=alt.Color(\"CHANNEL\", legend=alt.Legend(orient=\"top\", title=\" \")), opacity=alt.condition(alt.datum.MONTH==\"July\", alt.value(1), alt.value(0.3)))\n",
    "  lines = base.mark_line(size=3).encode(y=alt.Y(\"ROI\", title=\"Revenue\", scale=alt.Scale(domain=[0, 25])), color=alt.value(\"#808495\"))\n",
    "  points = base.mark_point(strokeWidth=3).encode(y=alt.Y(\"ROI\"), stroke=alt.value(\"#808495\"), fill=alt.value(\"white\"), size=alt.condition(alt.datum.MONTH==\"July\", alt.value(300), alt.value(70)))\n",
    "  chart = alt.layer(bars, lines + points).resolve_scale(y=\"independent\").configure_view(strokeWidth=0).configure_axisY(domain=False).configure_axis(labelColor=\"#808495\", tickColor=\"#e6eaf1\", gridColor=\"#e6eaf1\", domainColor=\"#e6eaf1\", titleFontWeight=600, titlePadding=10, labelPadding=5, labelFontSize=14).configure_range(category=[\"#FFE08E\", \"#03C0F2\", \"#FFAAAB\", \"#995EFF\"])\n",
    "  st.altair_chart(chart, use_container_width=True)\n",
    "\n",
    "# Streamlit config\n",
    "st.header(\"SkiGear Co Ad Spend Optimizer\")\n",
    "st.subheader(\"Advertising budgets\")\n",
    "\n",
    "# Call functions to get Snowflake session and load data\n",
    "channels = [\"Search engine\", \"Email\", \"Social media\", \"Video\"]\n",
    "channels_upper = [channel.replace(\" \", \"\").upper() for channel in channels]\n",
    "data, alloc, rois, last_alloc = load()\n",
    "last_alloc = last_alloc.replace(channels_upper, channels)\n",
    "\n",
    "# Display advertising budget sliders and set their default values\n",
    "col1, _, col2 = st.columns([4, 1, 4])\n",
    "budgets = []\n",
    "for alloc, col in zip(last_alloc.itertuples(), [col1, col1, col2, col2]):\n",
    "  budgets.append(col.slider(alloc.CHANNEL, 0, 100, alloc.BUDGET, 5))\n",
    "\n",
    "# Function to call \"predict_roi\" UDF that uses the pre-trained model for inference\n",
    "# Note: Both the model training and UDF registration is done in Snowpark_For_Python.ipynb\n",
    "pred, change = predict(budgets)\n",
    "st.metric(\"\", f\"Predicted revenue ${pred:.2f} million\", f\"{change:.1f} % vs last month\")\n",
    "july = pd.DataFrame({\"MONTH\": [\"July\"]*4, \"CHANNEL\": channels_upper, \"BUDGET\": budgets, \"ROI\": [pred]*4})\n",
    "chart(pd.concat([data, july]).reset_index(drop=True).replace(channels_upper, channels))\n",
    "\n",
    "# Setup the ability to save user-entered allocations and predicted value back to Snowflake \n",
    "if st.button(\"❄️ Save to Snowflake\"):\n",
    "  with st.spinner(\"Making snowflakes...\"):\n",
    "    df = pd.DataFrame({\"MONTH\": [\"July\"], \"SEARCHENGINE\": [budgets[0]], \"SOCIALMEDIA\": [budgets[1]], \"VIDEO\": [budgets[2]], \"EMAIL\": [budgets[3]], \"ROI\": [pred]})\n",
    "    session.write_pandas(df, \"BUDGET_ALLOCATIONS_AND_ROI\")  \n",
    "    st.success(\"✅ Successfully wrote budgets & prediction to your Snowflake account!\")\n",
    "    st.snow()"
   ]
  }
 ],
 "metadata": {
  "kernelspec": {
   "display_name": "venv",
   "language": "python",
   "name": "python3"
  },
  "language_info": {
   "codemirror_mode": {
    "name": "ipython",
    "version": 3
   },
   "file_extension": ".py",
   "mimetype": "text/x-python",
   "name": "python",
   "nbconvert_exporter": "python",
   "pygments_lexer": "ipython3",
   "version": "3.9.6"
  }
 },
 "nbformat": 4,
 "nbformat_minor": 5
}
